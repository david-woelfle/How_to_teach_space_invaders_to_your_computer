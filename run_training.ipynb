{
 "cells": [
  {
   "cell_type": "markdown",
   "metadata": {},
   "source": [
    "## Train sequentially, from outer to inner layers."
   ]
  },
  {
   "cell_type": "code",
   "execution_count": null,
   "metadata": {},
   "outputs": [],
   "source": [
    "from training import run_vae_training, run_agent_training\n",
    "config = {'run_name': 'sequential_training',\n",
    "            'frames_per_epoch': 5000,\n",
    "            'n_epochs': 200,\n",
    "            'n_epochs_vae': 5,\n",
    "            'batch_size': 128,\n",
    "            'input_shape': (256, 192, 3),\n",
    "            'kernel_size': 3,\n",
    "            'latent_dim': 64,\n",
    "            'first_conv_layer_filter_number': 32,\n",
    "            'no_of_conv_layers': 3,\n",
    "            'learning_rate': 0.0005,\n",
    "            'kl_factor': 0.00001,\n",
    "            'variational_mode': True,\n",
    "            'trainable_layers': ['encoder_conv_1', 'decoder_deconv_1', 'decoder_output'],\n",
    "            'shortwire_layers': ['encoder_conv_1', 'decoder_deconv_1'],\n",
    "            'desired_train_loss': 0.0001,\n",
    "            'print_summaries': True\n",
    "         }\n",
    "\n",
    "run_vae_training(**config)"
   ]
  },
  {
   "cell_type": "code",
   "execution_count": null,
   "metadata": {},
   "outputs": [],
   "source": [
    "from training import run_vae_training, run_agent_training\n",
    "config = {'run_name': 'sequential_training',\n",
    "            'frames_per_epoch': 5000,\n",
    "            'n_epochs': 400,\n",
    "            'n_epochs_vae': 5,\n",
    "            'batch_size': 128,\n",
    "            'input_shape': (256, 192, 3),\n",
    "            'kernel_size': 3,\n",
    "            'latent_dim': 64,\n",
    "            'first_conv_layer_filter_number': 32,\n",
    "            'no_of_conv_layers': 3,\n",
    "            'learning_rate': 0.0005,\n",
    "            'kl_factor': 0.00001,\n",
    "            'variational_mode': True,\n",
    "            'trainable_layers': ['encoder_conv_2', 'decoder_deconv_2'],\n",
    "            'shortwire_layers': ['encoder_conv_2', 'decoder_deconv_2'],\n",
    "            'desired_train_loss': 0.0001,\n",
    "            'print_summaries': True\n",
    "         }\n",
    "\n",
    "run_vae_training(**config)"
   ]
  },
  {
   "cell_type": "code",
   "execution_count": null,
   "metadata": {},
   "outputs": [],
   "source": [
    "from training import run_vae_training, run_agent_training\n",
    "config = {'run_name': 'sequential_training',\n",
    "            'frames_per_epoch': 5000,\n",
    "            'n_epochs': 600,\n",
    "            'n_epochs_vae': 5,\n",
    "            'batch_size': 128,\n",
    "            'input_shape': (256, 192, 3),\n",
    "            'kernel_size': 3,\n",
    "            'latent_dim': 64,\n",
    "            'first_conv_layer_filter_number': 32,\n",
    "            'no_of_conv_layers': 3,\n",
    "            'learning_rate': 0.0005,\n",
    "            'kl_factor': 0.00001,\n",
    "            'variational_mode': True,\n",
    "            'trainable_layers': ['encoder_conv_3', 'decoder_deconv_3'],\n",
    "            'shortwire_layers': ['encoder_conv_3', 'decoder_deconv_3'],\n",
    "            'desired_train_loss': 0.0001,\n",
    "            'print_summaries': True\n",
    "         }\n",
    "\n",
    "run_vae_training(**config)"
   ]
  },
  {
   "cell_type": "markdown",
   "metadata": {},
   "source": [
    "## Train the VAE core alone"
   ]
  },
  {
   "cell_type": "code",
   "execution_count": null,
   "metadata": {},
   "outputs": [],
   "source": [
    "import os\n",
    "from shutil import copy2, rmtree\n",
    "\n",
    "from training import run_vae_training, run_agent_training\n",
    "config = {'run_name': 'sequential_training',\n",
    "            'frames_per_epoch': 5000,\n",
    "            'n_epochs': 1300,\n",
    "            'n_epochs_vae': 5,\n",
    "            'batch_size': 128,\n",
    "            'input_shape': (256, 192, 3),\n",
    "            'kernel_size': 3,\n",
    "            'latent_dim': 64,\n",
    "            'first_conv_layer_filter_number': 32,\n",
    "            'no_of_conv_layers': 3,\n",
    "            'learning_rate': 0.0005,\n",
    "            'kl_factor': 0.000000001,\n",
    "            'variational_mode': True,\n",
    "            'trainable_layers': ['z_mean', 'z_log_var', 'z_inflate'],\n",
    "            'shortwire_layers': [],\n",
    "            'desired_train_loss': 0.002,\n",
    "            'print_summaries': True\n",
    "         }\n",
    "\n",
    "\n",
    "run_vae_training(**config)"
   ]
  },
  {
   "cell_type": "markdown",
   "metadata": {},
   "source": [
    "## Finetuning of all weights.\n",
    "Training this will not get beyond 0.0005 loss. Reduce vae_epochs to reduce overfitting."
   ]
  },
  {
   "cell_type": "code",
   "execution_count": null,
   "metadata": {},
   "outputs": [],
   "source": [
    "import os\n",
    "from shutil import copy2, rmtree\n",
    "\n",
    "from training import run_vae_training, run_agent_training\n",
    "config = {'run_name': 'sequential_training',\n",
    "            'frames_per_epoch': 5000,\n",
    "            'n_epochs': 1300,\n",
    "            'n_epochs_vae': 1,\n",
    "            'batch_size': 128,\n",
    "            'input_shape': (256, 192, 3),\n",
    "            'kernel_size': 3,\n",
    "            'latent_dim': 64,\n",
    "            'first_conv_layer_filter_number': 32,\n",
    "            'no_of_conv_layers': 3,\n",
    "            'learning_rate': 0.0005,\n",
    "            'kl_factor': 0.000000001,\n",
    "            'variational_mode': True,\n",
    "            'trainable_layers': [],\n",
    "            'shortwire_layers': [],\n",
    "            'desired_train_loss': 0.0005,\n",
    "            'print_summaries': True\n",
    "         }\n",
    "\n",
    "\n",
    "run_vae_training(**config)"
   ]
  },
  {
   "cell_type": "markdown",
   "metadata": {},
   "source": [
    "## Train the agent"
   ]
  },
  {
   "cell_type": "code",
   "execution_count": null,
   "metadata": {},
   "outputs": [],
   "source": [
    "import os\n",
    "from shutil import copy2, rmtree\n",
    "\n",
    "from training import run_vae_training, run_agent_training\n",
    "config = {'run_name': 'sequential_training',\n",
    "          'print_summaries': True,\n",
    "          'probabilistic_mode': False,\n",
    "          'cma_population_size': 32,\n",
    "          'cma_initial_std': 1,\n",
    "          'cma_max_generations': None\n",
    "         }\n",
    "\n",
    "run_agent_training(**config)"
   ]
  }
 ],
 "metadata": {
  "kernelspec": {
   "display_name": "Python 3",
   "language": "python",
   "name": "python3"
  },
  "language_info": {
   "codemirror_mode": {
    "name": "ipython",
    "version": 3
   },
   "file_extension": ".py",
   "mimetype": "text/x-python",
   "name": "python",
   "nbconvert_exporter": "python",
   "pygments_lexer": "ipython3",
   "version": "3.5.2"
  }
 },
 "nbformat": 4,
 "nbformat_minor": 2
}
